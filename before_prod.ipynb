{
 "cells": [
  {
   "cell_type": "code",
   "execution_count": null,
   "metadata": {},
   "outputs": [],
   "source": [
    "import datetime\n",
    "\n",
    "import pandas as pd\n",
    "import YahooFinancials\n",
    "import numpy as np\n",
    "\n",
    "def classificator(row, location):\n",
    "    if row[location] >= 1.25:\n",
    "      return 4\n",
    "    elif row[location] >= 0.35:\n",
    "      return 3\n",
    "    elif row[location] <= -1.25:\n",
    "      return 0\n",
    "    elif row[location] <= -0.35:\n",
    "      return 1\n",
    "    else:\n",
    "      return 2\n",
    "\n",
    "def historical_yahoo(start = (datetime.now() - datetime.timedelta(days=2000)).strftime(\"%Y-%m-%d\"),\n",
    "                    end= datetime.now().strftime(\"%Y-%m-%d\"), tickers = [\"BTC-USD\",\"GOLD\",\"AAPL\",\n",
    "                    \"TSLA\",'WFC', 'BAC', 'C' ,'EURUSD=X', 'JPY=X', 'GBPUSD=X', 'PRLAX', 'QASGX', 'HISFX']):\n",
    "    ###si passem mes data de la que hauriem el model apren encara menys\n",
    "    \"\"\"\n",
    "    tech_stocks = ['AAPL', 'MSFT', 'INTC']\n",
    "    bank_stocks = ['WFC', 'BAC', 'C']\n",
    "    commodity_futures = ['GC=F', 'SI=F', 'CL=F']\n",
    "    cryptocurrencies = ['BTC-USD', 'ETH-USD', 'XRP-USD']\n",
    "    currencies = ['EURUSD=X', 'JPY=X', 'GBPUSD=X']\n",
    "    mutual_funds = ['PRLAX', 'QASGX', 'HISFX']\n",
    "    us_treasuries = ['^TNX', '^IRX', '^TYX']\n",
    "    \"\"\"\n",
    "    yahoo_financials = YahooFinancials(tickers)\n",
    "    historical_stock_prices = yahoo_financials.get_historical_price_data(start, end, 'daily')\n",
    "\n",
    "    daily = pd.date_range(start, end, freq='D')\n",
    "    df = pd.DataFrame(daily,columns=['date'])#['2'] = np.ones([393,1])\n",
    "\n",
    "    for name in tickers:\n",
    "        current = historical_stock_prices[name]['prices']\n",
    "        df2 = pd.DataFrame(np.asarray([d['formatted_date'] for d in current]), columns=[\"date\"])\n",
    "        c_open = np.nan_to_num(np.asarray([x['open'] if x['open'] is not None else 0.1 for x in current]))\n",
    "        c_close = np.nan_to_num(np.asarray([x['close'] if x['close'] is not None else 0.1 for x in current]))\n",
    "\n",
    "        df2[str(name) + \"%\"] = ((c_close / c_open) -1) * 100\n",
    "        df2[str(name) + \"_Y\"] = df2.apply(lambda row: classificator(row, str(name) + \"%\"),axis=1)\n",
    "        df2[str(name) + \"_Vol\"] = np.asarray([x['volume'] for x in current])\n",
    "        df2[str(name) + \"_YPred\"] = np.append(df2.apply(lambda row: classificator(row, str(name) + \"%\"),axis=1)[1:],[None])\n",
    "        df = df.set_index('date').join(df2.set_index('date')).reset_index()\n",
    "    return df.set_index('date')"
   ]
  }
 ],
 "metadata": {
  "language_info": {
   "name": "python"
  },
  "orig_nbformat": 4
 },
 "nbformat": 4,
 "nbformat_minor": 2
}
